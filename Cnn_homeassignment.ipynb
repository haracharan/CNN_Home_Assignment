{
  "nbformat": 4,
  "nbformat_minor": 0,
  "metadata": {
    "colab": {
      "provenance": [],
      "authorship_tag": "ABX9TyOR7J3XVItW3uMa8Fbn/Jx6",
      "include_colab_link": true
    },
    "kernelspec": {
      "name": "python3",
      "display_name": "Python 3"
    },
    "language_info": {
      "name": "python"
    }
  },
  "cells": [
    {
      "cell_type": "markdown",
      "metadata": {
        "id": "view-in-github",
        "colab_type": "text"
      },
      "source": [
        "<a href=\"https://colab.research.google.com/github/haracharan/CNN_Home_Assignment/blob/main/Cnn_homeassignment.ipynb\" target=\"_parent\"><img src=\"https://colab.research.google.com/assets/colab-badge.svg\" alt=\"Open In Colab\"/></a>"
      ]
    },
    {
      "cell_type": "code",
      "execution_count": null,
      "metadata": {
        "colab": {
          "base_uri": "https://localhost:8080/"
        },
        "id": "RDuiuVbtS5D_",
        "outputId": "22fb890a-ff97-46e2-b512-e0db9a02ef8e"
      },
      "outputs": [
        {
          "output_type": "stream",
          "name": "stdout",
          "text": [
            "Original tensor rank: tf.Tensor(2, shape=(), dtype=int32)\n",
            "Original tensor shape: (4, 6)\n",
            "Reshaped tensor shape: (2, 3, 4)\n",
            "Transposed tensor shape: (4, 3, 2)\n",
            "Broadcasted tensor shape: (2, 3, 4)\n"
          ]
        }
      ],
      "source": [
        "import tensorflow as tf\n",
        "\n",
        "# 1. Create a random tensor of shape (4, 6)\n",
        "tensor = tf.random.normal([4, 6])\n",
        "\n",
        "# 2. Find its rank and shape using TensorFlow functions\n",
        "tensor_rank = tf.rank(tensor)\n",
        "tensor_shape = tensor.shape\n",
        "\n",
        "# 3. Reshape it into (2, 3, 4) and transpose it to (3, 2, 4)\n",
        "reshaped_tensor = tf.reshape(tensor, [2, 3, 4])\n",
        "transposed_tensor = tf.transpose(reshaped_tensor, perm=[2, 1, 0])\n",
        "\n",
        "# 4. Broadcast a smaller tensor (1, 4) to match the larger tensor and add them\n",
        "small_tensor = tf.random.normal([1, 4])\n",
        "broadcasted_tensor = small_tensor + reshaped_tensor  # Broadcasting happens automatically\n",
        "\n",
        "# Print results\n",
        "print(\"Original tensor rank:\", tensor_rank)\n",
        "print(\"Original tensor shape:\", tensor_shape)\n",
        "print(\"Reshaped tensor shape:\", reshaped_tensor.shape)\n",
        "print(\"Transposed tensor shape:\", transposed_tensor.shape)\n",
        "print(\"Broadcasted tensor shape:\", broadcasted_tensor.shape)\n"
      ]
    }
  ]
}