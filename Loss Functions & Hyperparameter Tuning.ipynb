{
  "nbformat": 4,
  "nbformat_minor": 0,
  "metadata": {
    "colab": {
      "provenance": [],
      "authorship_tag": "ABX9TyNsEWS7njOV+/Qs9yi8+3I4",
      "include_colab_link": true
    },
    "kernelspec": {
      "name": "python3",
      "display_name": "Python 3"
    },
    "language_info": {
      "name": "python"
    }
  },
  "cells": [
    {
      "cell_type": "markdown",
      "metadata": {
        "id": "view-in-github",
        "colab_type": "text"
      },
      "source": [
        "<a href=\"https://colab.research.google.com/github/haracharan/CNN_Home_Assignment/blob/main/Loss%20Functions%20%26%20Hyperparameter%20Tuning.ipynb\" target=\"_parent\"><img src=\"https://colab.research.google.com/assets/colab-badge.svg\" alt=\"Open In Colab\"/></a>"
      ]
    },
    {
      "cell_type": "code",
      "execution_count": 1,
      "metadata": {
        "colab": {
          "base_uri": "https://localhost:8080/"
        },
        "id": "RDuiuVbtS5D_",
        "outputId": "22fb890a-ff97-46e2-b512-e0db9a02ef8e"
      },
      "outputs": [
        {
          "output_type": "stream",
          "name": "stdout",
          "text": [
            "Original tensor rank: tf.Tensor(2, shape=(), dtype=int32)\n",
            "Original tensor shape: (4, 6)\n",
            "Reshaped tensor shape: (2, 3, 4)\n",
            "Transposed tensor shape: (4, 3, 2)\n",
            "Broadcasted tensor shape: (2, 3, 4)\n"
          ]
        }
      ],
      "source": [
        "import tensorflow as tf\n",
        "\n",
        "# 1. Create a random tensor of shape (4, 6)\n",
        "tensor = tf.random.normal([4, 6])\n",
        "\n",
        "# 2. Find its rank and shape using TensorFlow functions\n",
        "tensor_rank = tf.rank(tensor)\n",
        "tensor_shape = tensor.shape\n",
        "\n",
        "# 3. Reshape it into (2, 3, 4) and transpose it to (3, 2, 4)\n",
        "reshaped_tensor = tf.reshape(tensor, [2, 3, 4])\n",
        "transposed_tensor = tf.transpose(reshaped_tensor, perm=[2, 1, 0])\n",
        "\n",
        "# 4. Broadcast a smaller tensor (1, 4) to match the larger tensor and add them\n",
        "small_tensor = tf.random.normal([1, 4])\n",
        "broadcasted_tensor = small_tensor + reshaped_tensor  # Broadcasting happens automatically\n",
        "\n",
        "# Print results\n",
        "print(\"Original tensor rank:\", tensor_rank)\n",
        "print(\"Original tensor shape:\", tensor_shape)\n",
        "print(\"Reshaped tensor shape:\", reshaped_tensor.shape)\n",
        "print(\"Transposed tensor shape:\", transposed_tensor.shape)\n",
        "print(\"Broadcasted tensor shape:\", broadcasted_tensor.shape)\n"
      ]
    },
    {
      "cell_type": "code",
      "source": [
        "import tensorflow as tf\n",
        "import numpy as np\n",
        "import matplotlib.pyplot as plt\n",
        "from tensorflow.keras.losses import MeanSquaredError, CategoricalCrossentropy\n",
        "\n",
        "# Task 2: Implement and Compare Loss Functions\n",
        "# 1. Define true values and model predictions\n",
        "y_true = np.array([[0, 1, 0], [1, 0, 1]])  # One-hot encoded true labels\n",
        "y_pred1 = np.array([[0.1, 0.8, 0.1], [0.7, 0.2, 0.6]])  # Close predictions\n",
        "y_pred2 = np.array([[0.3, 0.6, 0.1], [0.5, 0.3, 0.5]])  # Slightly different predictions\n",
        "\n",
        "# 2. Compute Mean Squared Error and Categorical Cross-Entropy\n",
        "mse = MeanSquaredError()\n",
        "cce = CategoricalCrossentropy()\n",
        "\n",
        "loss_mse1 = mse(y_true, y_pred1).numpy()\n",
        "loss_cce1 = cce(y_true, y_pred1).numpy()\n",
        "loss_mse2 = mse(y_true, y_pred2).numpy()\n",
        "loss_cce2 = cce(y_true, y_pred2).numpy()\n",
        "\n",
        "print(\"Loss values:\")\n",
        "print(f\"MSE (pred1): {loss_mse1}, CCE (pred1): {loss_cce1}\")\n",
        "print(f\"MSE (pred2): {loss_mse2}, CCE (pred2): {loss_cce2}\")\n",
        "\n",
        "# 4. Plot loss function values\n",
        "labels = ['MSE_pred1', 'CCE_pred1', 'MSE_pred2', 'CCE_pred2']\n",
        "values = [loss_mse1, loss_cce1, loss_mse2, loss_cce2]\n",
        "plt.bar(labels, values, color=['blue', 'red', 'blue', 'red'])\n",
        "plt.ylabel('Loss Value')\n",
        "plt.title('Comparison of MSE and Cross-Entropy Loss')\n",
        "plt.show()\n"
      ],
      "metadata": {
        "colab": {
          "base_uri": "https://localhost:8080/",
          "height": 504
        },
        "id": "savGTkDbVW3n",
        "outputId": "950d7f79-e49a-4476-b589-9c3590a9d013"
      },
      "execution_count": 2,
      "outputs": [
        {
          "output_type": "stream",
          "name": "stdout",
          "text": [
            "Loss values:\n",
            "MSE (pred1): 0.05833332985639572, CCE (pred1): 0.9507871866226196\n",
            "MSE (pred2): 0.14166666567325592, CCE (pred2): 1.2109242677688599\n"
          ]
        },
        {
          "output_type": "display_data",
          "data": {
            "text/plain": [
              "<Figure size 640x480 with 1 Axes>"
            ],
            "image/png": "[encoded data removed]"
          },
          "metadata": {}
        }
      ]
    }
  ]
}