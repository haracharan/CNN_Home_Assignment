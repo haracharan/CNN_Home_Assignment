{
  "nbformat": 4,
  "nbformat_minor": 0,
  "metadata": {
    "colab": {
      "provenance": [],
      "authorship_tag": "ABX9TyP8FE7rR02Gx0WhRqRZqnmS"
    },
    "kernelspec": {
      "name": "python3",
      "display_name": "Python 3"
    },
    "language_info": {
      "name": "python"
    }
  },
  "cells": [
    {
      "cell_type": "code",
      "execution_count": null,
      "metadata": {
        "colab": {
          "base_uri": "https://localhost:8080/"
        },
        "id": "EUJ1ljPWhf0w",
        "outputId": "11897ded-79bd-4460-d8e4-96e75a158983"
      },
      "outputs": [
        {
          "output_type": "stream",
          "name": "stdout",
          "text": [
            "Stride = 1, Padding = 'VALID':\n",
            "[[-6. -6. -6.]\n",
            " [-6. -6. -6.]\n",
            " [-6. -6. -6.]]\n",
            "\n",
            "Stride = 1, Padding = 'SAME':\n",
            "[[ -9.  -4.  -4.  -4.  13.]\n",
            " [-21.  -6.  -6.  -6.  27.]\n",
            " [-36.  -6.  -6.  -6.  42.]\n",
            " [-51.  -6.  -6.  -6.  57.]\n",
            " [-39.  -4.  -4.  -4.  43.]]\n",
            "\n",
            "Stride = 2, Padding = 'VALID':\n",
            "[[-6. -6.]\n",
            " [-6. -6.]]\n",
            "\n",
            "Stride = 2, Padding = 'SAME':\n",
            "[[ -9.  -4.  13.]\n",
            " [-36.  -6.  42.]\n",
            " [-39.  -4.  43.]]\n"
          ]
        }
      ],
      "source": [
        "import numpy as np\n",
        "import tensorflow as tf\n",
        "\n",
        "# Define the 5x5 input matrix\n",
        "input_matrix = np.array([\n",
        "    [1, 2, 3, 4, 5],\n",
        "    [6, 7, 8, 9, 10],\n",
        "    [11, 12, 13, 14, 15],\n",
        "    [16, 17, 18, 19, 20],\n",
        "    [21, 22, 23, 24, 25]\n",
        "], dtype=np.float32)\n",
        "\n",
        "# Define the 3x3 kernel\n",
        "kernel = np.array([\n",
        "    [1, 0, -1],\n",
        "    [1, 0, -1],\n",
        "    [1, 0, -1]\n",
        "], dtype=np.float32)\n",
        "\n",
        "# Reshape the input matrix and kernel to match the expected input shapes for tf.nn.conv2d\n",
        "input_matrix = input_matrix.reshape(1, 5, 5, 1)  # (batch_size, height, width, channels)\n",
        "kernel = kernel.reshape(3, 3, 1, 1)  # (height, width, input_channels, output_channels)\n",
        "\n",
        "# Perform convolution with different strides and padding\n",
        "def perform_convolution(input_matrix, kernel, strides, padding):\n",
        "    output = tf.nn.conv2d(input_matrix, kernel, strides=[1, strides, strides, 1], padding=padding)\n",
        "    return output.numpy().squeeze()\n",
        "\n",
        "# Stride = 1, Padding = 'VALID'\n",
        "output_valid_stride1 = perform_convolution(input_matrix, kernel, strides=1, padding='VALID')\n",
        "print(\"Stride = 1, Padding = 'VALID':\")\n",
        "print(output_valid_stride1)\n",
        "\n",
        "# Stride = 1, Padding = 'SAME'\n",
        "output_same_stride1 = perform_convolution(input_matrix, kernel, strides=1, padding='SAME')\n",
        "print(\"\\nStride = 1, Padding = 'SAME':\")\n",
        "print(output_same_stride1)\n",
        "\n",
        "# Stride = 2, Padding = 'VALID'\n",
        "output_valid_stride2 = perform_convolution(input_matrix, kernel, strides=2, padding='VALID')\n",
        "print(\"\\nStride = 2, Padding = 'VALID':\")\n",
        "print(output_valid_stride2)\n",
        "\n",
        "# Stride = 2, Padding = 'SAME'\n",
        "output_same_stride2 = perform_convolution(input_matrix, kernel, strides=2, padding='SAME')\n",
        "print(\"\\nStride = 2, Padding = 'SAME':\")\n",
        "print(output_same_stride2)"
      ]
    }
  ]
}